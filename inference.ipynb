{
 "cells": [
  {
   "cell_type": "code",
   "execution_count": null,
   "id": "d513131e",
   "metadata": {},
   "outputs": [],
   "source": [
    "from openai import OpenAI\n",
    "\n",
    "\n",
    "# The url can be found with vec-inf status $JOB_ID\n",
    "client = OpenAI(base_url=\"http://gpu035:8080/v1\", api_key=\"EMPTY\")\n",
    "\n",
    "# Update the model path accordingly\n",
    "completion = client.chat.completions.create(\n",
    "    model=\"Mistral-7B-Instruct-v0.1\",\n",
    "    messages=[\n",
    "        {\n",
    "            \"role\": \"system\",\n",
    "            \"content\": \"You are a pirate chatbot who always responds in pirate speak!\",\n",
    "        },\n",
    "        {\"role\": \"user\", \"content\": \"Who are you?\"},\n",
    "    ],\n",
    ")\n",
    "\n",
    "print(completion.model_dump_json())"
   ]
  },
  {
   "cell_type": "code",
   "execution_count": null,
   "id": "0846ddaa",
   "metadata": {},
   "outputs": [],
   "source": []
  }
 ],
 "metadata": {
  "kernelspec": {
   "display_name": "base",
   "language": "python",
   "name": "python3"
  },
  "language_info": {
   "name": "python",
   "version": "3.12.8"
  }
 },
 "nbformat": 4,
 "nbformat_minor": 5
}
